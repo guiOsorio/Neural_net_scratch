{
 "cells": [
  {
   "cell_type": "markdown",
   "id": "2daf36fb",
   "metadata": {},
   "source": [
    "# Neural Network w/ backpropagation in Python from scratch"
   ]
  },
  {
   "cell_type": "markdown",
   "id": "a9915a0f",
   "metadata": {},
   "source": [
    "Lecture: https://www.youtube.com/watch?v=59Hbtz7XgjM\n",
    "Post: https://cs231n.github.io/optimization-2/\n",
    "Post: https://mattmazur.com/2015/03/17/a-step-by-step-backpropagation-example/\n",
    "Video: https://www.youtube.com/watch?v=4shguqlkTDM\n",
    "Code Inspiration: https://github.com/yacineMahdid/artificial-intelligence-and-machine-learning/blob/master/deep-learning-from-scratch-python/multi_layer_perceptron.ipynb (different data, try out different activations - sigmoid, ReLu, tanh)\n",
    "Code Inspiration 2: https://machinelearningmastery.com/implement-backpropagation-algorithm-scratch-python/"
   ]
  },
  {
   "cell_type": "markdown",
   "id": "45fe5885",
   "metadata": {},
   "source": [
    "### Functional Implementation"
   ]
  },
  {
   "cell_type": "code",
   "execution_count": 128,
   "id": "d7a29289",
   "metadata": {},
   "outputs": [],
   "source": [
    "import numpy as np"
   ]
  },
  {
   "cell_type": "code",
   "execution_count": 129,
   "id": "6df07b42",
   "metadata": {},
   "outputs": [],
   "source": [
    "# XOR\n",
    "inp1 = [[0,0], [0,1], [1,0], [1,1]]\n",
    "out1 = [0,1,1,0]"
   ]
  },
  {
   "cell_type": "code",
   "execution_count": 130,
   "id": "3b2fda76",
   "metadata": {},
   "outputs": [
    {
     "data": {
      "text/plain": [
       "[[{'params': [0.4027871384648424,\n",
       "    0.9118154973711273,\n",
       "    0.4500288113786137,\n",
       "    0.4814538006425819,\n",
       "    0.8662690643135066]},\n",
       "  {'params': [0.7756967416326624,\n",
       "    0.053135994526826935,\n",
       "    0.7396543145611285,\n",
       "    0.6026337488934862,\n",
       "    0.9397547745956054]}],\n",
       " [{'params': [0.3553374529300649, 0.28265970862617384]},\n",
       "  {'params': [0.3229305444398558, 0.6101373918941917]}]]"
      ]
     },
     "execution_count": 130,
     "metadata": {},
     "output_type": "execute_result"
    }
   ],
   "source": [
    "# 1. Initialize network with weights\n",
    "\n",
    "network = []\n",
    "n_layers = 2\n",
    "n_hidden = 1\n",
    "n_neurons = [2, 2] # layer 1, layer 2\n",
    "n_weights = [len(inp1), 1] # layer 1, layer 2. Bias not included\n",
    "\n",
    "\n",
    "def init_weights(n_weights):\n",
    "    return np.random.rand(n_weights)\n",
    "\n",
    "i = 0\n",
    "for layer in range(n_layers):\n",
    "    l = [{'params': [np.random.rand() for n in range(n_weights[layer] + 1)]} for n in range(n_layers)]\n",
    "    network.append(l)\n",
    "\n",
    "network\n"
   ]
  },
  {
   "cell_type": "code",
   "execution_count": 133,
   "id": "58e0033d",
   "metadata": {},
   "outputs": [
    {
     "data": {
      "text/plain": [
       "[[{'params': [0.4027871384648424,\n",
       "    0.9118154973711273,\n",
       "    0.4500288113786137,\n",
       "    0.4814538006425819,\n",
       "    0.8662690643135066],\n",
       "   'output': 3.191020974348411,\n",
       "   'activated': 0.9604949789010405},\n",
       "  {'params': [0.7756967416326624,\n",
       "    0.053135994526826935,\n",
       "    0.7396543145611285,\n",
       "    0.6026337488934862,\n",
       "    0.9397547745956054],\n",
       "   'output': 2.9378125814705336,\n",
       "   'activated': 0.9496843059030119}],\n",
       " [{'params': [0.3553374529300649, 0.28265970862617384],\n",
       "   'output': 0.6239595479809861,\n",
       "   'activated': 0.6511185494501411},\n",
       "  {'params': [0.3229305444398558, 0.6101373918941917],\n",
       "   'output': 0.9203105583624525,\n",
       "   'activated': 0.7151053798817925}]]"
      ]
     },
     "execution_count": 133,
     "metadata": {},
     "output_type": "execute_result"
    }
   ],
   "source": [
    "# 2. Forward propagate\n",
    "\n",
    "# Calculates the output of a single neuron -> (weights * inputs) + bias\n",
    "def calc_neuron_output(params, inputs):\n",
    "    bias = params[-1]\n",
    "    output = bias\n",
    "    for i in range(len(params) - 1):\n",
    "        if any(isinstance(inp, list) for inp in inputs):\n",
    "            for inp in inputs[i]:\n",
    "                output += params[i] * inp\n",
    "        else:\n",
    "            output += params[i] * inputs[i]\n",
    "    return output\n",
    "\n",
    "# Activation functions\n",
    "def sigmoid(output): # ds=s*(1-s)\n",
    "    return 1.0 / (1.0 + np.exp(-output))\n",
    "\n",
    "def ReLu(output): # dr = 1 if output > 0, else 0\n",
    "    return max(0, output)\n",
    "\n",
    "def tanh(output): # dt=1-t**2\n",
    "    return (np.exp(output)-np.exp(-output))/(np.exp(output)+np.exp(-output))\n",
    "\n",
    "activation_functions = ('sigmoid', 'ReLu', 'tanh')\n",
    "\n",
    "def forward_propagate(inputs, activation_func):\n",
    "    inp = inputs\n",
    "    for layer in network:\n",
    "        outs = []\n",
    "        for neuron in layer:\n",
    "            neuron_out = calc_neuron_output(neuron['params'], inp)\n",
    "            neuron['output'] = neuron_out\n",
    "            neuron['activated'] = activation_func(neuron['output'])\n",
    "            outs.append(neuron['activated'])\n",
    "        inp = outs\n",
    "\n",
    "forward_propagate(inp1, sigmoid)\n",
    "\n",
    "network"
   ]
  },
  {
   "cell_type": "code",
   "execution_count": 132,
   "id": "d4e8e6bd",
   "metadata": {},
   "outputs": [],
   "source": [
    "# 3. Back propagate error\n"
   ]
  },
  {
   "cell_type": "code",
   "execution_count": null,
   "id": "8151ddb3",
   "metadata": {},
   "outputs": [],
   "source": [
    "# 4. Train network"
   ]
  },
  {
   "cell_type": "code",
   "execution_count": null,
   "id": "e5fc1140",
   "metadata": {},
   "outputs": [],
   "source": [
    "# 5. Predict on small dataset"
   ]
  },
  {
   "cell_type": "code",
   "execution_count": null,
   "id": "dba7820e",
   "metadata": {},
   "outputs": [],
   "source": [
    "# 6. Predict on real world dataset - https://www.kaggle.com/datasets/whenamancodes/fraud-detection?resource=download"
   ]
  },
  {
   "cell_type": "markdown",
   "id": "6f227d16",
   "metadata": {},
   "source": [
    "### OOP Implementation"
   ]
  },
  {
   "cell_type": "code",
   "execution_count": null,
   "id": "00fda27a",
   "metadata": {},
   "outputs": [],
   "source": []
  }
 ],
 "metadata": {
  "kernelspec": {
   "display_name": "Python 3 (ipykernel)",
   "language": "python",
   "name": "python3"
  },
  "language_info": {
   "codemirror_mode": {
    "name": "ipython",
    "version": 3
   },
   "file_extension": ".py",
   "mimetype": "text/x-python",
   "name": "python",
   "nbconvert_exporter": "python",
   "pygments_lexer": "ipython3",
   "version": "3.9.12"
  }
 },
 "nbformat": 4,
 "nbformat_minor": 5
}
