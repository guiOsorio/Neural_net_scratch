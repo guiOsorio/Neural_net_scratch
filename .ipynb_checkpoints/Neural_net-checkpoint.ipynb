{
 "cells": [
  {
   "cell_type": "markdown",
   "id": "a11a4d4a",
   "metadata": {},
   "source": [
    "# Neural Network w/ backpropagation in Python from scratch"
   ]
  },
  {
   "cell_type": "markdown",
   "id": "432a4860",
   "metadata": {},
   "source": [
    "Lecture: https://www.youtube.com/watch?v=59Hbtz7XgjM\n",
    "Post: https://cs231n.github.io/optimization-2/\n",
    "Post: https://mattmazur.com/2015/03/17/a-step-by-step-backpropagation-example/\n",
    "Video: https://www.youtube.com/watch?v=4shguqlkTDM\n",
    "Code Inspiration: https://github.com/yacineMahdid/artificial-intelligence-and-machine-learning/blob/master/deep-learning-from-scratch-python/multi_layer_perceptron.ipynb (different data, try out different activations - sigmoid, ReLu, tanh)\n",
    "Code Inspiration 2: https://machinelearningmastery.com/implement-backpropagation-algorithm-scratch-python/"
   ]
  },
  {
   "cell_type": "markdown",
   "id": "aafcb12d",
   "metadata": {},
   "source": [
    "### Functional Implementation"
   ]
  },
  {
   "cell_type": "code",
   "execution_count": 1,
   "id": "60059532",
   "metadata": {},
   "outputs": [],
   "source": [
    "import numpy as np\n",
    "from csv import reader\n",
    "import matplotlib.pyplot as plt"
   ]
  },
  {
   "cell_type": "code",
   "execution_count": 2,
   "id": "ee035d7a",
   "metadata": {},
   "outputs": [],
   "source": [
    "train = [[2.7810836,2.550537003, 0],\n",
    "           [1.465489372,2.362125076, 0],\n",
    "           [3.396561688,4.400293529, 0],\n",
    "           [1.38807019,1.850220317, 0],\n",
    "           [3.06407232,3.005305973, 0],\n",
    "           [7.627531214,2.759262235, 1],\n",
    "           [5.332441248,2.088626775, 1],\n",
    "           [6.922596716,1.77106367, 1],\n",
    "           [8.675418651,-0.242068655, 1],\n",
    "           [7.673756466,3.508563011, 1]]"
   ]
  },
  {
   "cell_type": "code",
   "execution_count": 3,
   "id": "5532f241",
   "metadata": {},
   "outputs": [
    {
     "name": "stdout",
     "output_type": "stream",
     "text": [
      "HIDDEN LAYER 1\n",
      "[{'params': [0.9952490707849014, 0.9987559562888128, 0.08698922299194745]}]\n",
      " \n",
      "OUTPUT LAYER\n",
      "[{'params': [0.8967199102543199, 0.12851920092515534]}, {'params': [0.8441539793936715, 0.3181463199994664]}]\n"
     ]
    }
   ],
   "source": [
    "# 1. Initialize network with weights\n",
    "\n",
    "n_hidden = 1 # number of hidden layers\n",
    "n_inputs = len(train[0][:-1]) # number of features\n",
    "n_hidden_neurons = [1, 1] # number of neurons in hidden layer\n",
    "n_outputs = 2 # number of possible outputs to be predicted\n",
    "\n",
    "def init_network(n_inputs, n_hidden, n_hidden_neurons, n_outputs):\n",
    "\n",
    "    network = []\n",
    "    \n",
    "    # number of parameters = 1 per input (features in original data) + bias = n_inputs + 1\n",
    "    # number of neurons in layer = n_hidden_neurons[i]\n",
    "    i = 0\n",
    "    for n in range(n_hidden):\n",
    "        if i == 0:\n",
    "            hidden_layer = [{'params': [np.random.rand() for n in range(n_inputs + 1)]} for n in range(n_hidden_neurons[i])]\n",
    "        else:\n",
    "            hidden_layer = [{'params': [np.random.rand() for n in range(n_hidden_neurons[i-1] + 1)]} for n in range(n_hidden_neurons[i])]\n",
    "        network.append(hidden_layer)\n",
    "        i += 1\n",
    "        \n",
    "    # number of parameters = 1 per input (neurons in previous hidden layer) + bias = n_hidden + 1\n",
    "    # number of neurons in layer = n_outputs\n",
    "    output_layer = [{'params': [np.random.rand() for n in range(n_hidden_neurons[i-1] + 1)]} for n in range(n_outputs)]\n",
    "    network.append(output_layer)\n",
    "    \n",
    "    return network\n",
    "\n",
    "def print_layers(network):\n",
    "    i = 0\n",
    "    for layer in network:\n",
    "        if i < n_hidden:\n",
    "            print(f'HIDDEN LAYER {i+1}')\n",
    "            print(layer)\n",
    "            print(' ')\n",
    "        if i == n_hidden:\n",
    "            print('OUTPUT LAYER')\n",
    "            print(layer)\n",
    "        i += 1\n",
    "        \n",
    "network = init_network(n_inputs, n_hidden, n_hidden_neurons, n_outputs)\n",
    "\n",
    "print_layers(network)"
   ]
  },
  {
   "cell_type": "code",
   "execution_count": 4,
   "id": "a5762d73",
   "metadata": {},
   "outputs": [],
   "source": [
    "# Activation functions\n",
    "def sigmoid(output):\n",
    "    return 1.0 / (1.0 + np.exp(-output))\n",
    "\n",
    "def ReLu(output):\n",
    "    return max(0, output)\n",
    "\n",
    "def tanh(output):\n",
    "    return (np.exp(output)-np.exp(-output))/(np.exp(output)+np.exp(-output))\n",
    "\n",
    "activation_functions = ('sigmoid', 'ReLu', 'tanh')"
   ]
  },
  {
   "cell_type": "code",
   "execution_count": 5,
   "id": "303d0af2",
   "metadata": {},
   "outputs": [
    {
     "data": {
      "text/plain": [
       "[0.7352094192953503, 0.7610624409405787]"
      ]
     },
     "execution_count": 5,
     "metadata": {},
     "output_type": "execute_result"
    }
   ],
   "source": [
    "# 2. Forward propagate\n",
    "\n",
    "# Calculates the output of a single neuron -> (weights * inputs) + bias\n",
    "def calc_neuron_output(params, inputs):\n",
    "    bias = params[-1]\n",
    "    output = bias\n",
    "    for i in range(len(params) - 1): # for every weight\n",
    "        output += params[i] * inputs[i]\n",
    "    return output\n",
    "\n",
    "def forward_propagate(network, inputs):\n",
    "    \n",
    "    for layer in network:\n",
    "        \n",
    "        # this list will store the activated output of each neuron to be the input of the next layer\n",
    "        # (in case the current layer is a hidden layer). Otherwise, this list will represent the outputs of the model\n",
    "        next_inputs = []\n",
    "        \n",
    "        for neuron in layer:\n",
    "            neuron_out = calc_neuron_output(neuron['params'], inputs) # linear output of neuron\n",
    "            neuron['output_activated'] = sigmoid(neuron_out) # sigmoid activation of linear output\n",
    "            next_inputs.append(neuron['output_activated'])\n",
    "            \n",
    "        inputs = next_inputs\n",
    "\n",
    "    return inputs # outputs of output layer\n",
    "\n",
    "forward_propagate(network, train[0][:-1])"
   ]
  },
  {
   "cell_type": "code",
   "execution_count": 6,
   "id": "e095d180",
   "metadata": {},
   "outputs": [],
   "source": [
    "# Derivatives of activation functions\n",
    "def d_sigmoid(s):\n",
    "    return s*(1-s)\n",
    "\n",
    "def d_ReLu(r):\n",
    "    return 1 if r > 0 else 0\n",
    "\n",
    "def d_tanh(t):\n",
    "    return 1-t**2"
   ]
  },
  {
   "cell_type": "code",
   "execution_count": 7,
   "id": "4c81b581",
   "metadata": {},
   "outputs": [
    {
     "name": "stdout",
     "output_type": "stream",
     "text": [
      "HIDDEN LAYER 1\n",
      "[{'params': [0.9952490707849014, 0.9987559562888128, 0.08698922299194745], 'output_activated': 0.9955136711412541}]\n",
      " \n",
      "OUTPUT LAYER\n",
      "[{'params': [0.8967199102543199, 0.12851920092515534], 'output_activated': 0.7352094192953503}, {'params': [0.8441539793936715, 0.3181463199994664], 'output_activated': 0.7610624409405787}]\n"
     ]
    }
   ],
   "source": [
    "print_layers(network)"
   ]
  },
  {
   "cell_type": "code",
   "execution_count": 8,
   "id": "e83fd4cd",
   "metadata": {},
   "outputs": [],
   "source": [
    "# 3. Back propagate error\n",
    "\n",
    "# delta (error) for neuron in output layer = (y_pred-y_expected) * d_actv\n",
    "# delta (error) for neuron in hidden layers = sum(all connected weights from top layer * corresponding delta)\n",
    "\n",
    "# i is the ith layer of the network we are iterating through\n",
    "# expected_output are the expected outputs of the network (neurons in the output layer)\n",
    "##([1,0] for 0 , [0,1] for 1) (answer corresponds to the index where 1 is)\n",
    "\n",
    "def backpropagate(network, i, expected_output):\n",
    "    \n",
    "    # Base case -- backpropagation starts in output layer\n",
    "    if i == n_hidden:\n",
    "\n",
    "        for n in range(len(network[i])): # loop through each neuron in the layer i of the network (output layer)\n",
    "            neuron = network[i][n] # current neuron\n",
    "            error = neuron['output_activated'] - expected_output[n] # error for output in neuron n of output layer\n",
    "            neuron['delta'] = error * d_sigmoid(neuron['output_activated'])\n",
    "        return\n",
    "    # End of base case\n",
    "\n",
    "    errors = backpropagate(network, i + 1, expected_output)\n",
    "    \n",
    "    for n in range(len(network[i])): # loop through each neuron in the layer i of the network (hidden layer)\n",
    "        neuron = network[i][n] # current neuron\n",
    "        error = 0.0\n",
    "        for top_neuron in network[i+1]: # for each neuron in layer above\n",
    "            # (weights of top layer that the neuron output was multiplied by) * (corresponding delta)\n",
    "            error += top_neuron['params'][n] * top_neuron['delta']\n",
    "        neuron['delta'] = error * d_sigmoid(neuron['output_activated'])\n",
    "        \n",
    "    return\n",
    "            \n",
    "backpropagate(network, 0, [1,0])"
   ]
  },
  {
   "cell_type": "code",
   "execution_count": 9,
   "id": "6417c4ad",
   "metadata": {},
   "outputs": [
    {
     "name": "stdout",
     "output_type": "stream",
     "text": [
      "HIDDEN LAYER 1\n",
      "[{'params': [0.9952490707849014, 0.9987559562888128, 0.08698922299194745], 'output_activated': 0.9955136711412541, 'delta': 0.00031532880994299134}]\n",
      " \n",
      "OUTPUT LAYER\n",
      "[{'params': [0.8967199102543199, 0.12851920092515534], 'output_activated': 0.7352094192953503, 'delta': -0.0515485111832671}, {'params': [0.8441539793936715, 0.3181463199994664], 'output_activated': 0.7610624409405787, 'delta': 0.1383964665292191}]\n"
     ]
    }
   ],
   "source": [
    "print_layers(network)"
   ]
  },
  {
   "cell_type": "code",
   "execution_count": 97,
   "id": "9bbbab97",
   "metadata": {},
   "outputs": [],
   "source": [
    "# 4. Train network\n",
    "\n",
    "def update_weights(network, row, lr):\n",
    "    for i in range(len(network)): # for every layer in the network\n",
    "        inputs = row[:-1] # take training inputs\n",
    "        if i != 0: # for all layers except the first\n",
    "            inputs = [neuron['output_activated'] for neuron in network[i-1]] # inputs are the output of the previous layer\n",
    "        for neuron in network[i]: # for every neuron in the layer\n",
    "            for j in range(len(inputs)): # for every input to the layer (every weight in the neuron)\n",
    "                neuron['params'][j] -= lr * neuron['delta'] * inputs[j] # weight update\n",
    "            neuron['params'][-1] -= lr * neuron['delta'] # bias update\n",
    "\n",
    "def train_network(network, training_data, lr, n_epochs):\n",
    "    \n",
    "    for n_epoch in range(n_epochs):\n",
    "        sse = 0.0\n",
    "        \n",
    "        for row in training_data:\n",
    "            output = forward_propagate(network, row)\n",
    "            expected = [0 for i in range(len(output))] # initialize to an array of 0s of same size as outputs\n",
    "            expected[row[-1]] = 1 # if actual output is 1, expected is [0,1], if 0 it is [1,0]\n",
    "            sse += sum([(expected[i]-output[i])**2 for i in range(len(expected))])\n",
    "            backpropagate(network, 0, expected)\n",
    "            update_weights(network, row, lr)\n",
    "        \n",
    "        if n_epoch % 50 == 0:\n",
    "            print('>epoch=%d, error=%.3f' % (n_epoch, sse)) "
   ]
  },
  {
   "cell_type": "code",
   "execution_count": 11,
   "id": "44af0b14",
   "metadata": {},
   "outputs": [
    {
     "name": "stdout",
     "output_type": "stream",
     "text": [
      ">epoch=0, error=6.269\n",
      ">epoch=10, error=5.114\n",
      ">epoch=20, error=5.104\n",
      ">epoch=30, error=5.100\n",
      ">epoch=40, error=5.092\n",
      ">epoch=50, error=5.077\n",
      ">epoch=60, error=5.039\n",
      ">epoch=70, error=4.890\n",
      ">epoch=80, error=4.188\n",
      ">epoch=90, error=3.064\n",
      ">epoch=100, error=2.154\n",
      ">epoch=110, error=1.559\n",
      ">epoch=120, error=1.179\n",
      ">epoch=130, error=0.929\n",
      ">epoch=140, error=0.756\n",
      ">epoch=150, error=0.633\n",
      ">epoch=160, error=0.541\n",
      ">epoch=170, error=0.470\n",
      ">epoch=180, error=0.415\n",
      ">epoch=190, error=0.370\n",
      ">epoch=200, error=0.334\n",
      ">epoch=210, error=0.303\n",
      ">epoch=220, error=0.277\n",
      ">epoch=230, error=0.256\n",
      ">epoch=240, error=0.237\n",
      ">epoch=250, error=0.220\n",
      ">epoch=260, error=0.206\n",
      ">epoch=270, error=0.193\n",
      ">epoch=280, error=0.182\n",
      ">epoch=290, error=0.172\n",
      ">epoch=300, error=0.163\n",
      ">epoch=310, error=0.154\n",
      ">epoch=320, error=0.147\n",
      ">epoch=330, error=0.140\n",
      ">epoch=340, error=0.134\n",
      ">epoch=350, error=0.128\n",
      ">epoch=360, error=0.123\n",
      ">epoch=370, error=0.118\n",
      ">epoch=380, error=0.113\n",
      ">epoch=390, error=0.109\n",
      ">epoch=400, error=0.105\n",
      ">epoch=410, error=0.102\n",
      ">epoch=420, error=0.098\n",
      ">epoch=430, error=0.095\n",
      ">epoch=440, error=0.092\n",
      ">epoch=450, error=0.089\n",
      ">epoch=460, error=0.086\n",
      ">epoch=470, error=0.084\n",
      ">epoch=480, error=0.082\n",
      ">epoch=490, error=0.079\n"
     ]
    }
   ],
   "source": [
    "def backprop(training_data, lr, n_epochs, n_inputs, n_hidden, n_hidden_neurons, n_outputs):\n",
    "    model = init_network(n_inputs, n_hidden, n_hidden_neurons, n_outputs)\n",
    "    train_network(model, training_data, lr, n_epochs)\n",
    "    \n",
    "    return model\n",
    "    \n",
    "lr = 0.2\n",
    "training_data = train\n",
    "n_epochs = 501\n",
    "\n",
    "model = backprop(training_data, lr, n_epochs, n_inputs, n_hidden, n_hidden_neurons, n_outputs)"
   ]
  },
  {
   "cell_type": "code",
   "execution_count": 12,
   "id": "897c88a7",
   "metadata": {},
   "outputs": [
    {
     "data": {
      "text/plain": [
       "[0, 0, 0, 0, 0, 1, 1, 1, 1, 1]"
      ]
     },
     "execution_count": 12,
     "metadata": {},
     "output_type": "execute_result"
    }
   ],
   "source": [
    "#### 5. Predict\n",
    "def predict(model, train):\n",
    "    \n",
    "    preds = [] # stores the predictions of all data points of the training data\n",
    "    \n",
    "    for row in training_data:\n",
    "        label = row[-1]\n",
    "        features = row[:-1]\n",
    "        outputs = forward_propagate(model, features)\n",
    "        pred = outputs.index(max(outputs))\n",
    "        preds.append(pred)\n",
    "    \n",
    "    return preds\n",
    "\n",
    "predict(model, train)"
   ]
  },
  {
   "cell_type": "code",
   "execution_count": 13,
   "id": "5ff529cc",
   "metadata": {},
   "outputs": [],
   "source": [
    "# Load a csv file\n",
    "def load_csv(filename):\n",
    "    dataset = list()\n",
    "    with open(filename, 'r') as file:\n",
    "        csv_reader = reader(file)\n",
    "        for row in csv_reader:\n",
    "            if not row:\n",
    "                continue\n",
    "            dataset.append(row)\n",
    "    return dataset"
   ]
  },
  {
   "cell_type": "code",
   "execution_count": 14,
   "id": "95689dec",
   "metadata": {},
   "outputs": [
    {
     "name": "stdout",
     "output_type": "stream",
     "text": [
      ">epoch=0, error=129.804\n",
      ">epoch=10, error=50.141\n",
      ">epoch=20, error=49.921\n",
      ">epoch=30, error=49.780\n",
      ">epoch=40, error=49.324\n",
      ">epoch=50, error=48.959\n",
      ">epoch=60, error=48.749\n",
      ">epoch=70, error=48.497\n",
      ">epoch=80, error=48.132\n",
      ">epoch=90, error=47.572\n",
      ">epoch=100, error=46.635\n",
      ">epoch=110, error=44.941\n",
      ">epoch=120, error=41.760\n",
      ">epoch=130, error=36.786\n",
      ">epoch=140, error=32.177\n",
      ">epoch=150, error=29.220\n",
      ">epoch=160, error=27.263\n",
      ">epoch=170, error=25.943\n",
      ">epoch=180, error=25.022\n",
      ">epoch=190, error=24.348\n",
      ">epoch=200, error=23.828\n",
      ">epoch=210, error=23.410\n",
      ">epoch=220, error=23.065\n",
      ">epoch=230, error=22.774\n",
      ">epoch=240, error=22.525\n",
      ">epoch=250, error=22.310\n",
      ">epoch=260, error=22.122\n",
      ">epoch=270, error=21.957\n",
      ">epoch=280, error=21.811\n",
      ">epoch=290, error=21.682\n",
      ">epoch=300, error=21.566\n",
      ">epoch=310, error=21.462\n",
      ">epoch=320, error=21.369\n",
      ">epoch=330, error=21.285\n",
      ">epoch=340, error=21.209\n",
      ">epoch=350, error=21.140\n",
      ">epoch=360, error=21.076\n",
      ">epoch=370, error=21.019\n",
      ">epoch=380, error=20.966\n",
      ">epoch=390, error=20.917\n",
      ">epoch=400, error=20.873\n",
      ">epoch=410, error=20.831\n",
      ">epoch=420, error=20.793\n",
      ">epoch=430, error=20.758\n",
      ">epoch=440, error=20.725\n",
      ">epoch=450, error=20.694\n",
      ">epoch=460, error=20.666\n",
      ">epoch=470, error=20.639\n",
      ">epoch=480, error=20.614\n",
      ">epoch=490, error=20.591\n"
     ]
    }
   ],
   "source": [
    "# 6. Predict on fraud detection dataset - https://www.kaggle.com/datasets/whenamancodes/fraud-detection?resource=download\n",
    "\n",
    "ccard_data = load_csv('creditcard.csv')\n",
    "ccard_data_mod = []\n",
    "i = 0\n",
    "for row in ccard_data: # take only first 2 features and output, convert from string to float/integer\n",
    "    if i != 0:\n",
    "        new_row = row[1:3]\n",
    "        for j in range(len(new_row)):\n",
    "            new_row[j] = float(new_row[j])\n",
    "        new_row.append(int(row[30]))\n",
    "\n",
    "        ccard_data_mod.append(new_row)\n",
    "    i += 1\n",
    "\n",
    "traincc = ccard_data_mod[:8000]\n",
    "testcc = ccard_data_mod[8000:10000]\n",
    "\n",
    "lr = 0.1\n",
    "training_data = traincc\n",
    "n_epochscc = 501\n",
    "\n",
    "n_hiddencc = 1 # number of hidden layers\n",
    "n_inputscc = len(traincc[0][:-1]) # number of features\n",
    "n_hidden_neuronscc = [1,1] # number of neurons in hidden layer\n",
    "n_outputscc = 2 # number of possible outputs to be predicted\n",
    "\n",
    "modelcc = backprop(traincc, lr, n_epochscc, n_inputscc, n_hiddencc, n_hidden_neuronscc, n_outputscc)"
   ]
  },
  {
   "cell_type": "code",
   "execution_count": 15,
   "id": "5e285659",
   "metadata": {},
   "outputs": [],
   "source": [
    "# Confusion Matrix\n",
    "class ConfusionMatrix:\n",
    "    \n",
    "    def __init__(self, modelcm, data):\n",
    "        self.model = modelcm\n",
    "        self.data = data\n",
    "        self.conf_matrix = None\n",
    "        \n",
    "        # METRICS\n",
    "        self.accuracy = 0.0\n",
    "        self.precision = 0.0\n",
    "        self.recall = 0.0\n",
    "        self.fprate = 0.0\n",
    "        self.fnrate = 0.0\n",
    "        \n",
    "    def predict(self):\n",
    "    \n",
    "        preds = [] # stores the predictions of all data points of the training data\n",
    "\n",
    "        for row in self.data:\n",
    "            label = row[-1]\n",
    "            features = row[:-1]\n",
    "            outputs = forward_propagate(self.model, features)\n",
    "            pred = outputs.index(max(outputs))\n",
    "            preds.append(pred)\n",
    "\n",
    "        return preds\n",
    "    \n",
    "    def print_matrix(self):\n",
    "        print(self.conf_matrix)\n",
    "        print(' ')\n",
    "        \n",
    "    def print_metrics(self):\n",
    "        # Accuracy (what fraction does it get right) = (# TP + # TN) / Total\n",
    "        self.accuracy = (self.conf_matrix['TPs'] + self.conf_matrix['TNs']) / sum(self.conf_matrix.values())\n",
    "        print('ACCURACY: ', round(self.accuracy, 3))\n",
    "        print(' ')\n",
    "        \n",
    "        # Precision (when it says 1, how often is it right) = # TP / (# TP + # FP)\n",
    "        self.precision = self.conf_matrix['TPs'] / (self.conf_matrix['TPs'] + self.conf_matrix['FPs'])\n",
    "        print('PRECISION: ', round(self.precision, 3))\n",
    "        print(' ')\n",
    "        \n",
    "        # Recall (what fraction of 1s does it get right) = # TP / (# TP + # FN)\n",
    "        self.recall = self.conf_matrix['TPs'] / (self.conf_matrix['TPs'] + self.conf_matrix['FNs'])\n",
    "        print('RECALL: ', round(self.recall, 3))\n",
    "        print(' ')\n",
    "        \n",
    "        # False positive rate (what fraction of 0s are called 1s) = # FP / (# FP + # TN)\n",
    "        self.fprate = self.conf_matrix['FPs'] / (self.conf_matrix['FPs'] + self.conf_matrix['TNs'])\n",
    "        print('FALSE POSITIVE RATE: ', round(self.fprate, 3))\n",
    "        print(' ')\n",
    "        \n",
    "        # False negative rate (what fraction of 1s are called 0s) = # FN / (# TP + # FN)\n",
    "        self.fnrate = self.conf_matrix['FNs'] / (self.conf_matrix['TPs'] + self.conf_matrix['FNs'])\n",
    "        print('FALSE NEGATIVE RATE: ', round(self.fnrate, 3))\n",
    "    \n",
    "    \n",
    "    def plot_matrix(self):\n",
    "        matrix_arr = [[self.conf_matrix['TNs'], self.conf_matrix['FPs']], [self.conf_matrix['FNs'], self.conf_matrix['TPs']]]\n",
    "        plt.imshow(matrix_arr, cmap = 'coolwarm', alpha = 0.5)\n",
    "        plt.xticks(np.arange(0, 2), ['0', '1'])\n",
    "        plt.yticks(np.arange(0, 2), ['0', '1'])\n",
    "        \n",
    "        plt.text(-0.1, 0, matrix_arr[0][0], fontsize = 14) # TNs\n",
    "        plt.text(0.95, 0, matrix_arr[0][1], fontsize = 14) # FPs\n",
    "        plt.text(-0.1, 1, matrix_arr[1][0], fontsize = 14) # FNs\n",
    "        plt.text(0.95, 1, matrix_arr[1][1], fontsize = 14) # TPs\n",
    "\n",
    "        plt.xlabel('Predictions', fontsize=18)\n",
    "        plt.ylabel('Actuals', fontsize=18)\n",
    "        plt.title('Confusion Matrix', fontsize=18)\n",
    "        plt.show()\n",
    "        \n",
    "        \n",
    "    def fit(self):\n",
    "        self.conf_matrix = {'TPs': 0, 'TNs': 0, 'FPs': 0, 'FNs': 0}\n",
    "        \n",
    "        preds = self.predict()\n",
    "        \n",
    "        for i in range(len(preds)):\n",
    "            label = self.data[i][-1]\n",
    "            pred = preds[i]\n",
    "            if label == 1 and pred == 1: # truly predicted positive\n",
    "                self.conf_matrix['TPs'] += 1\n",
    "            elif label == 0 and pred == 1: # falsely predicted positive\n",
    "                self.conf_matrix['FPs'] += 1\n",
    "            elif label == 1 and pred == 0: # falsely predicted negative\n",
    "                self.conf_matrix['FNs'] += 1\n",
    "            elif label == 0 and pred == 0: # truly predicted negative\n",
    "                self.conf_matrix['TNs'] += 1\n",
    "    "
   ]
  },
  {
   "cell_type": "code",
   "execution_count": 16,
   "id": "4861499f",
   "metadata": {},
   "outputs": [
    {
     "name": "stdout",
     "output_type": "stream",
     "text": [
      "ACCURACY:  0.996\n",
      " \n",
      "PRECISION:  0.625\n",
      " \n",
      "RECALL:  0.769\n",
      " \n",
      "FALSE POSITIVE RATE:  0.003\n",
      " \n",
      "FALSE NEGATIVE RATE:  0.231\n"
     ]
    },
    {
     "data": {
      "image/png": "[encoded data removed]",
      "text/plain": [
       "<Figure size 432x288 with 1 Axes>"
      ]
     },
     "metadata": {
      "needs_background": "light"
     },
     "output_type": "display_data"
    }
   ],
   "source": [
    "cc_cm = ConfusionMatrix(modelcc, testcc)\n",
    "cc_cm.fit()\n",
    "cc_cm.print_metrics()\n",
    "cc_cm.plot_matrix()"
   ]
  },
  {
   "cell_type": "code",
   "execution_count": 92,
   "id": "48854f53",
   "metadata": {},
   "outputs": [],
   "source": [
    "# 7. Predict on titanic dataset - https://www.kaggle.com/competitions/titanic/data\n",
    "titanic_train = load_csv('titanic_train.csv')\n",
    "\n",
    "def modify_titanic(titanic_data):\n",
    "    # take max and min of variables to be normalized\n",
    "    age_min = 100\n",
    "    age_max = 0\n",
    "    sibsp_min = 100\n",
    "    sibsp_max = 0\n",
    "    parch_min = 100\n",
    "    parch_max = 0\n",
    "    fare_min = 100.0\n",
    "    fare_max = 0.0\n",
    "\n",
    "    j = 0\n",
    "    for row in titanic_data:\n",
    "        if j != 0:\n",
    "            age = int(row[5]) if row[5].isdigit() else age_min\n",
    "            if age < age_min:\n",
    "                age_min = age\n",
    "            if age > age_max:\n",
    "                age_max = age\n",
    "\n",
    "            sibsp = int(row[6]) if row[6].isdigit() else sibsp_min\n",
    "            if sibsp < sibsp_min:\n",
    "                sibsp_min = sibsp\n",
    "            if sibsp > sibsp_max:\n",
    "                sibsp_max = sibsp\n",
    "\n",
    "            parch = int(row[7]) if row[7].isdigit() else parch_min\n",
    "            if parch < parch_min:\n",
    "                parch_min = parch\n",
    "            if parch > parch_max:\n",
    "                parch_max = parch\n",
    "\n",
    "            fare = float(row[9]) if row[9].isdigit() else fare_min\n",
    "            if fare < fare_min:\n",
    "                fare_min = fare\n",
    "            if fare > fare_max:\n",
    "                fare_max = fare\n",
    "        j += 1\n",
    "    \n",
    "    titanic_mod = []\n",
    "\n",
    "    for i in range(len(titanic_data)): # take only first 2 features and output, convert from string to float/integer\n",
    "\n",
    "        if i != 0:\n",
    "\n",
    "            row = titanic_data[i]\n",
    "            new_row = []\n",
    "\n",
    "            gender = 1 if row[4] == 'male' else 0\n",
    "            new_row.append(gender)\n",
    "\n",
    "            # scale 'Age' variable (row[5]) to [0,1] range and append to new_row\n",
    "            if row[5].isdigit():\n",
    "                age = int(row[5])\n",
    "                age_scaled = (age - age_min) / (age_max - age_min)\n",
    "                new_row.append(age_scaled)\n",
    "\n",
    "            # scale 'SibSp' variable (row[6]) and append to new_row\n",
    "            if row[6].isdigit():\n",
    "                sibsp = int(row[6])\n",
    "                sibsp_scaled = (sibsp - sibsp_min) / (sibsp_max - sibsp_min)\n",
    "                new_row.append(sibsp_scaled)\n",
    "\n",
    "            # scale 'Parch' variable (row[7]) and append to new_row\n",
    "            if row[7].isdigit():\n",
    "                parch = int(row[7])\n",
    "                parch_scaled = (parch - parch_min) / (parch_max - parch_min)\n",
    "                new_row.append(parch_scaled)\n",
    "\n",
    "            # scale 'Fare' variable (row[9]) and append to new_row\n",
    "            if row[9].replace('.','',1).isdigit():\n",
    "                fare = float(row[9])\n",
    "                fare_scaled = (fare - fare_min) / (fare_max - fare_min)\n",
    "                new_row.append(fare_scaled)\n",
    "\n",
    "            # append label ('Survived') (row[1]) to new_row\n",
    "            new_row.append(int(row[1]))\n",
    "\n",
    "            if row[5].isdigit() and row[6].isdigit() and row[7].isdigit() and row[9].replace('.','',1).isdigit():\n",
    "                titanic_mod.append(new_row)\n",
    "                \n",
    "    return titanic_mod\n",
    "\n",
    "titanic_train_mod = modify_titanic(titanic_train)"
   ]
  },
  {
   "cell_type": "code",
   "execution_count": 102,
   "id": "0ae2e3d8",
   "metadata": {},
   "outputs": [
    {
     "name": "stdout",
     "output_type": "stream",
     "text": [
      ">epoch=0, error=350.708\n",
      ">epoch=50, error=214.027\n",
      ">epoch=100, error=207.283\n",
      ">epoch=150, error=201.688\n",
      ">epoch=200, error=197.801\n",
      ">epoch=250, error=195.342\n",
      ">epoch=300, error=193.298\n",
      ">epoch=350, error=191.527\n",
      ">epoch=400, error=189.995\n",
      ">epoch=450, error=188.711\n",
      ">epoch=500, error=187.500\n"
     ]
    }
   ],
   "source": [
    "lr = 0.2\n",
    "training_data = titanic_train_mod\n",
    "n_epochs_titanic = 501\n",
    "\n",
    "n_hidden_titanic = 1 # number of hidden layers\n",
    "n_inputs_titanic = len(titanic_train_mod[0][:-1]) # number of features\n",
    "n_hidden_neurons_titanic = [5,1] # number of neurons in hidden layer\n",
    "n_outputs_titanic = 2 # number of possible outputs to be predicted\n",
    "\n",
    "model_titanic = backprop(titanic_train_mod, lr, n_epochs_titanic, n_inputs_titanic, n_hidden_titanic, n_hidden_neurons_titanic, n_outputs_titanic)"
   ]
  },
  {
   "cell_type": "code",
   "execution_count": 103,
   "id": "421f2cfe",
   "metadata": {},
   "outputs": [
    {
     "name": "stdout",
     "output_type": "stream",
     "text": [
      "ACCURACY:  0.826\n",
      " \n",
      "PRECISION:  0.814\n",
      " \n",
      "RECALL:  0.745\n",
      " \n",
      "FALSE POSITIVE RATE:  0.118\n",
      " \n",
      "FALSE NEGATIVE RATE:  0.255\n"
     ]
    },
    {
     "data": {
      "image/png": "[encoded data removed]",
      "text/plain": [
       "<Figure size 432x288 with 1 Axes>"
      ]
     },
     "metadata": {
      "needs_background": "light"
     },
     "output_type": "display_data"
    }
   ],
   "source": [
    "conf_matrix_titanic = ConfusionMatrix(model_titanic, titanic_train_mod)\n",
    "conf_matrix_titanic.fit()\n",
    "conf_matrix_titanic.print_metrics()\n",
    "conf_matrix_titanic.plot_matrix()"
   ]
  }
 ],
 "metadata": {
  "kernelspec": {
   "display_name": "Python 3 (ipykernel)",
   "language": "python",
   "name": "python3"
  },
  "language_info": {
   "codemirror_mode": {
    "name": "ipython",
    "version": 3
   },
   "file_extension": ".py",
   "mimetype": "text/x-python",
   "name": "python",
   "nbconvert_exporter": "python",
   "pygments_lexer": "ipython3",
   "version": "3.9.12"
  }
 },
 "nbformat": 4,
 "nbformat_minor": 5
}
